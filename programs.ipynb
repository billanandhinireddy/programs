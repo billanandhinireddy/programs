{
 "cells": [
  {
   "cell_type": "code",
   "execution_count": 1,
   "metadata": {},
   "outputs": [
    {
     "name": "stdout",
     "output_type": "stream",
     "text": [
      "helloworld\n"
     ]
    }
   ],
   "source": [
    "#1.WAS TO PRINT \"HELLOWORLD\" BY USING SHELL\n",
    "print(\"helloworld\")\n"
   ]
  },
  {
   "cell_type": "code",
   "execution_count": 2,
   "metadata": {},
   "outputs": [
    {
     "name": "stdout",
     "output_type": "stream",
     "text": [
      "50 15.03 (10+6j) b'1010' True hello [10, 20, 30] (1, 2, 3) {1, 2, 3} {'q': 10, 1: 20}\n"
     ]
    }
   ],
   "source": [
    "#2. WAS TO INTILIZE VARIABLE AND VALUEAS 50\n",
    "a=50\n",
    "b=15.03\n",
    "c=10+6j\n",
    "d=b'1010'\n",
    "e=True\n",
    "f='hello'\n",
    "g=[10,20,30]\n",
    "h=(1,2,3)\n",
    "i={1,2,3}\n",
    "j={'q':10,1:20}\n",
    "print(a,b,c,d,e,f,g,h,i,j)"
   ]
  },
  {
   "cell_type": "code",
   "execution_count": 3,
   "metadata": {},
   "outputs": [
    {
     "name": "stdout",
     "output_type": "stream",
     "text": [
      "150\n",
      "120\n",
      "250\n"
     ]
    }
   ],
   "source": [
    "#3. WAS TO INITIALIZE MUULTIVARIABLE VALUES ARE 150,120,250\n",
    "a,b,c=150,120,250\n",
    "print(a)\n",
    "print(b)\n",
    "print(c)"
   ]
  },
  {
   "cell_type": "code",
   "execution_count": 4,
   "metadata": {},
   "outputs": [
    {
     "data": {
      "text/plain": [
       "list"
      ]
     },
     "execution_count": 4,
     "metadata": {},
     "output_type": "execute_result"
    }
   ],
   "source": [
    "#4. WAS TO PRINT THE TYPE OF THE DATA IN GIVEN VALUE\n",
    "a=[1,2,4]\n",
    "type(a)"
   ]
  },
  {
   "cell_type": "code",
   "execution_count": 10,
   "metadata": {},
   "outputs": [
    {
     "data": {
      "text/plain": [
       "140716360066440"
      ]
     },
     "execution_count": 10,
     "metadata": {},
     "output_type": "execute_result"
    }
   ],
   "source": [
    "#5. WAS TO PRINT THE ADDRESS OF THE MEMORY BLOCK IN A GIVEN VALUE\n",
    "a=(10,20)\n",
    "id(a)\n",
    "id(a[0])\n",
    "id(a[1])\n"
   ]
  },
  {
   "cell_type": "code",
   "execution_count": 13,
   "metadata": {},
   "outputs": [
    {
     "name": "stdout",
     "output_type": "stream",
     "text": [
      "Name: nandhu\n",
      "Age: 22\n",
      "nandhu 22 7297087691 5.2 True\n"
     ]
    }
   ],
   "source": [
    "#6. WAS TO PRINT YOUR DETAILS ,FIRST STORE YOUR DETAILS, EXTRACT THE VALUES AND DISPLAY IT\n",
    "name='nandhu'\n",
    "age=22\n",
    "phone=7297087691\n",
    "height=5.2\n",
    "pancard=True\n",
    "print('Name:',name)\n",
    "print('Age:',age)\n",
    "print(name,age,phone,height,pancard)"
   ]
  },
  {
   "cell_type": "code",
   "execution_count": 16,
   "metadata": {},
   "outputs": [
    {
     "name": "stdout",
     "output_type": "stream",
     "text": [
      "priya\n"
     ]
    }
   ],
   "source": [
    "#using dict\n",
    "nandhu={'name':'priya','age':22,'height':5.2,'phone':7583923902,'pancard':True,'email':'priya@123'}\n",
    "print(nandhu ['name'])"
   ]
  },
  {
   "cell_type": "code",
   "execution_count": 17,
   "metadata": {},
   "outputs": [
    {
     "name": "stdout",
     "output_type": "stream",
     "text": [
      "bye\n",
      "haii\n"
     ]
    }
   ],
   "source": [
    "#7. WAS TO SWAP THE TWO VALUES WITH TEMPORARY VARIABLE\n",
    "x='haii'\n",
    "y='bye'\n",
    "temp=x\n",
    "x=y\n",
    "y=temp\n",
    "print(x)\n",
    "print(y)"
   ]
  },
  {
   "cell_type": "code",
   "execution_count": 18,
   "metadata": {},
   "outputs": [
    {
     "name": "stdout",
     "output_type": "stream",
     "text": [
      "20 10\n"
     ]
    }
   ],
   "source": [
    "#8. WAS  TO  SWAP THE  TWO VALUES VTHOUT TEMPORARY VARIABLES\n",
    "a=10\n",
    "b=20\n",
    "a,b=b,a\n",
    "print(a,b)"
   ]
  },
  {
   "cell_type": "code",
   "execution_count": 24,
   "metadata": {},
   "outputs": [
    {
     "name": "stdout",
     "output_type": "stream",
     "text": [
      "['1', '0']\n"
     ]
    }
   ],
   "source": [
    "#9. WAS TO CONVERT SINGLE TO MULTIVALUE DATATYPE\n",
    "a=10\n",
    "a=str(a)\n",
    "a\n",
    "print(list(str(a)))"
   ]
  },
  {
   "cell_type": "code",
   "execution_count": 29,
   "metadata": {},
   "outputs": [
    {
     "name": "stdout",
     "output_type": "stream",
     "text": [
      "2\n",
      "4\n",
      "5\n"
     ]
    },
    {
     "ename": "TypeError",
     "evalue": "object of type 'int' has no len()",
     "output_type": "error",
     "traceback": [
      "\u001b[1;31m---------------------------------------------------------------------------\u001b[0m",
      "\u001b[1;31mTypeError\u001b[0m                                 Traceback (most recent call last)",
      "Cell \u001b[1;32mIn[29], line 9\u001b[0m\n\u001b[0;32m      7\u001b[0m \u001b[39mprint\u001b[39m(\u001b[39mlen\u001b[39m(a))\n\u001b[0;32m      8\u001b[0m c\u001b[39m=\u001b[39m\u001b[39m10\u001b[39m\n\u001b[1;32m----> 9\u001b[0m \u001b[39mprint\u001b[39m(\u001b[39mlen\u001b[39;49m(c))\u001b[39m# its doesnot primitive datatype expect bytes so its displayed as error\u001b[39;00m\n\u001b[0;32m     10\u001b[0m q\u001b[39m=\u001b[39m\u001b[39mb\u001b[39m\u001b[39m'\u001b[39m\u001b[39m1010\u001b[39m\u001b[39m'\u001b[39m\n\u001b[0;32m     11\u001b[0m \u001b[39mprint\u001b[39m(\u001b[39mlen\u001b[39m(q))\n",
      "\u001b[1;31mTypeError\u001b[0m: object of type 'int' has no len()"
     ]
    }
   ],
   "source": [
    "#10. WAS TO CHECK THE LENGTH OF THE COLLECTION\n",
    "x=(10,20)\n",
    "print(len(x))\n",
    "b=[10,20,60,80]\n",
    "print(len(b))\n",
    "a='hello'\n",
    "print(len(a))\n",
    "c=10\n",
    "print(len(c))# its doesnot primitive datatype  so its displayed as error\n",
    "q=b'1010'\n",
    "print(len(q))"
   ]
  },
  {
   "cell_type": "code",
   "execution_count": null,
   "metadata": {},
   "outputs": [],
   "source": []
  }
 ],
 "metadata": {
  "kernelspec": {
   "display_name": "Python 3",
   "language": "python",
   "name": "python3"
  },
  "language_info": {
   "codemirror_mode": {
    "name": "ipython",
    "version": 3
   },
   "file_extension": ".py",
   "mimetype": "text/x-python",
   "name": "python",
   "nbconvert_exporter": "python",
   "pygments_lexer": "ipython3",
   "version": "3.11.3"
  },
  "orig_nbformat": 4
 },
 "nbformat": 4,
 "nbformat_minor": 2
}
