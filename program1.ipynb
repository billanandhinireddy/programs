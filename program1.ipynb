{
 "cells": [
  {
   "cell_type": "code",
   "execution_count": 8,
   "metadata": {},
   "outputs": [
    {
     "name": "stdout",
     "output_type": "stream",
     "text": [
      "[10, 20, 30]\n",
      "[17, 40, 60]\n",
      "40\n",
      "[17, 40, 60, 40, 50, 70]\n"
     ]
    },
    {
     "ename": "NameError",
     "evalue": "name 'a' is not defined",
     "output_type": "error",
     "traceback": [
      "\u001b[1;31m---------------------------------------------------------------------------\u001b[0m",
      "\u001b[1;31mNameError\u001b[0m                                 Traceback (most recent call last)",
      "Cell \u001b[1;32mIn[8], line 10\u001b[0m\n\u001b[0;32m      8\u001b[0m \u001b[39mprint\u001b[39m(a)\n\u001b[0;32m      9\u001b[0m \u001b[39mdel\u001b[39;00m a\n\u001b[1;32m---> 10\u001b[0m \u001b[39mprint\u001b[39m(a)\n",
      "\u001b[1;31mNameError\u001b[0m: name 'a' is not defined"
     ]
    }
   ],
   "source": [
    "#13.WAS TO INITIALIZE A VALUE AND PRINT THE VALUE ,THEN REINITIALIZE THE NEW VALUE TO EXISTING VARIABLE AND DISPLAY THE VALUE\n",
    "a=[10,20,30]\n",
    "print(a)#initialize\n",
    "a=[17,40,60]\n",
    "print(a)#reinitialize\n",
    "print(a[1])#fetch\n",
    "a+=[40,50,70]#concat\n",
    "print(a)\n",
    "del a\n",
    "print(a)"
   ]
  },
  {
   "cell_type": "code",
   "execution_count": 17,
   "metadata": {},
   "outputs": [
    {
     "name": "stdout",
     "output_type": "stream",
     "text": [
      "comp@uter\n"
     ]
    }
   ],
   "source": [
    "#14. WAS TO CONCAT NEWSTRING INTO THE  MIDDLE OF THE GIVEN STRING\n",
    "A=\"computer\"\n",
    "A=A[0:(len(A)//2)]+\"@\"+A[(len(A)//2):]\n",
    "print(A)"
   ]
  },
  {
   "cell_type": "code",
   "execution_count": 19,
   "metadata": {},
   "outputs": [
    {
     "name": "stdout",
     "output_type": "stream",
     "text": [
      "False\n"
     ]
    }
   ],
   "source": [
    "#15. WAE TO CHECK  the given string last character ascii value should be divisible by 5 or not\n",
    "a=\"apple\"\n",
    "print(ord(a[-1])%5==0)#ord function is used to know the ascii value of char"
   ]
  },
  {
   "cell_type": "markdown",
   "metadata": {},
   "source": [
    "ORD ():\n",
    "*.IT IS A PREDEFINED BUILTIN FUNCTION \n",
    "* IT IS UESD TO FETCH THE ASCII VALUE OF SPECIFIC CHARACTER\n",
    "* IT WILL ACCEPT 1 CHAR \n",
    "* IT RETURN ASCLL VALUE OF GIVEN CHAR IN THE FORM OF INTEGER VALUE\n",
    "SYNTAX:\n",
    "       ORD(CHAR)\n",
    "\n",
    "CHR()\n",
    "# IT IS A PREDEFINED BUILTIN FUNCTION\n",
    "# IT IS USED TO FETCH THE ASCL CHAR\n",
    "# IT WILL ACCEPT INTEGER VALUE AND IT RETURNS ASCII CHAR BASED ON GIVEN INTEGER VALUE\n",
    "SYNTAX:\n",
    "         CHR(INTEGER)\n"
   ]
  },
  {
   "cell_type": "code",
   "execution_count": 21,
   "metadata": {},
   "outputs": [
    {
     "name": "stdout",
     "output_type": "stream",
     "text": [
      "True\n"
     ]
    }
   ],
   "source": [
    "# 80.was to check the given number is present b/w 60 to 130 and the number should be divisible by 3 and 4 and the last digit should be less than 9  or greater than 9\n",
    "n=120\n",
    "print(60<=n<=130 and n%3==0 and n%4==0 and n%10<9)"
   ]
  },
  {
   "cell_type": "code",
   "execution_count": 22,
   "metadata": {},
   "outputs": [
    {
     "name": "stdout",
     "output_type": "stream",
     "text": [
      "True\n"
     ]
    }
   ],
   "source": [
    "#81.wae to check the given number is even or less than 25\n",
    "n=23\n",
    "print(n%2==0 or n<25)"
   ]
  },
  {
   "cell_type": "code",
   "execution_count": 23,
   "metadata": {},
   "outputs": [
    {
     "name": "stdout",
     "output_type": "stream",
     "text": [
      "False\n"
     ]
    }
   ],
   "source": [
    "#82.wae to check the given number is even or greater than 25\n",
    "n=49\n",
    "print(n%2==0 or n<25)"
   ]
  },
  {
   "cell_type": "code",
   "execution_count": 24,
   "metadata": {},
   "outputs": [
    {
     "name": "stdout",
     "output_type": "stream",
     "text": [
      "True\n"
     ]
    }
   ],
   "source": [
    "#83.wae to check the given number is divisible by either 3 or 5\n",
    "n=9\n",
    "print(n%3==0 or n%5==0)"
   ]
  },
  {
   "cell_type": "code",
   "execution_count": 25,
   "metadata": {},
   "outputs": [
    {
     "name": "stdout",
     "output_type": "stream",
     "text": [
      "True\n"
     ]
    }
   ],
   "source": [
    "#84..wae to check the given number is not an even number\n",
    "a=7\n",
    "print(a%2!=0)"
   ]
  },
  {
   "cell_type": "code",
   "execution_count": 26,
   "metadata": {},
   "outputs": [
    {
     "name": "stdout",
     "output_type": "stream",
     "text": [
      "False\n"
     ]
    }
   ],
   "source": [
    "# 85.wae to check the given number is not a odd number\n",
    "a=5\n",
    "print(a%2==0)"
   ]
  },
  {
   "cell_type": "code",
   "execution_count": 27,
   "metadata": {},
   "outputs": [
    {
     "name": "stdout",
     "output_type": "stream",
     "text": [
      "True\n"
     ]
    }
   ],
   "source": [
    "# 86.wae to check the given number is not divisible by 3\n",
    "a=5\n",
    "print(a%2!=0)"
   ]
  },
  {
   "cell_type": "code",
   "execution_count": 29,
   "metadata": {},
   "outputs": [
    {
     "name": "stdout",
     "output_type": "stream",
     "text": [
      "False\n"
     ]
    }
   ],
   "source": [
    "# 87.wae to check the given number is not divisible by 3 and 5\n",
    "a=10\n",
    "print(a%2!=0 and a%5!=0)"
   ]
  },
  {
   "cell_type": "code",
   "execution_count": 30,
   "metadata": {},
   "outputs": [
    {
     "name": "stdout",
     "output_type": "stream",
     "text": [
      "True\n"
     ]
    }
   ],
   "source": [
    "#88.wae to check the given number is not divisible by 3 or  5\n",
    "a=5\n",
    "print(a%3!=0 or a%5!=0)"
   ]
  },
  {
   "cell_type": "code",
   "execution_count": 37,
   "metadata": {},
   "outputs": [
    {
     "name": "stdout",
     "output_type": "stream",
     "text": [
      "True\n",
      "False\n",
      "True\n",
      "True\n"
     ]
    },
    {
     "ename": "TypeError",
     "evalue": "ord() expected a character, but string of length 2 found",
     "output_type": "error",
     "traceback": [
      "\u001b[1;31m---------------------------------------------------------------------------\u001b[0m",
      "\u001b[1;31mTypeError\u001b[0m                                 Traceback (most recent call last)",
      "Cell \u001b[1;32mIn[37], line 15\u001b[0m\n\u001b[0;32m     13\u001b[0m \u001b[39m#two char\u001b[39;00m\n\u001b[0;32m     14\u001b[0m ch\u001b[39m=\u001b[39m\u001b[39m'\u001b[39m\u001b[39mGh\u001b[39m\u001b[39m'\u001b[39m\n\u001b[1;32m---> 15\u001b[0m \u001b[39mprint\u001b[39m(\u001b[39m65\u001b[39m\u001b[39m<\u001b[39m\u001b[39m=\u001b[39m\u001b[39mord\u001b[39;49m(ch)\u001b[39m<\u001b[39m\u001b[39m=\u001b[39m\u001b[39m90\u001b[39m)\u001b[39m#ord will become error\u001b[39;00m\n\u001b[0;32m     16\u001b[0m \u001b[39m#method4\u001b[39;00m\n\u001b[0;32m     17\u001b[0m ch\u001b[39m=\u001b[39m\u001b[39m'\u001b[39m\u001b[39mGh\u001b[39m\u001b[39m'\u001b[39m\n",
      "\u001b[1;31mTypeError\u001b[0m: ord() expected a character, but string of length 2 found"
     ]
    }
   ],
   "source": [
    "#89. was to check  the given char is uppercase or not\n",
    "n='A'#single char\n",
    "print(n>='A' and n<='Z')\n",
    "#two chars\n",
    "ch='Gh'\n",
    "print(len(ch)==1 and 'A'<=ch and ch<='Z') #method 2\n",
    "#method 1\n",
    "ch='Gh'\n",
    "print('A'<=ch<='Z')\n",
    "#method 3\n",
    "ch='G'\n",
    "print(65<=ord(ch)<=90)\n",
    "#two char\n",
    "ch='Gh'\n",
    "print(65<=ord(ch)<=90)#ord will become error\n",
    "#method4\n",
    "ch='Gh'\n",
    "print(len(ch)==1 and 65<=ord(ch)<=90)"
   ]
  },
  {
   "cell_type": "code",
   "execution_count": 43,
   "metadata": {},
   "outputs": [
    {
     "name": "stdout",
     "output_type": "stream",
     "text": [
      "True\n",
      "True\n",
      "True\n",
      "True\n"
     ]
    }
   ],
   "source": [
    "#90. wae to chck the given char is lowercase or not\n",
    "ch='a'\n",
    "print('a'<=ch<='z')\n",
    "print(len(ch)==1 and 'a'<=ch<='z')\n",
    "print(97<=ord(ch)<=122)\n",
    "print(len(ch)==1 and 97<=ord(ch)<=122)"
   ]
  },
  {
   "cell_type": "code",
   "execution_count": 45,
   "metadata": {},
   "outputs": [
    {
     "name": "stdout",
     "output_type": "stream",
     "text": [
      "True\n",
      "False\n"
     ]
    }
   ],
   "source": [
    "#91. wae to check the given char is the alphabet or not\n",
    "ch='S'\n",
    "print(len(ch)==1 and ('A'<=ch<='z' or 'a'<=ch<='z'))\n",
    "ch='0'\n",
    "print(len(ch)==1 and ('A'<=ch<='Z' or 'a'<=ch<='z'))"
   ]
  },
  {
   "cell_type": "code",
   "execution_count": 50,
   "metadata": {},
   "outputs": [
    {
     "name": "stdout",
     "output_type": "stream",
     "text": [
      "True\n",
      "True\n",
      "False\n"
     ]
    }
   ],
   "source": [
    "#92. was to check the given char is the ascii number\n",
    "ch='5'\n",
    "print(len(ch)==1 and '0'<=ch<='9')\n",
    "print('0'<=ch<='9')\n",
    "ch='A'\n",
    "print(len(ch)==1 and '0'<=ch<='9')"
   ]
  },
  {
   "cell_type": "code",
   "execution_count": 53,
   "metadata": {},
   "outputs": [
    {
     "name": "stdout",
     "output_type": "stream",
     "text": [
      "False\n",
      "True\n"
     ]
    }
   ],
   "source": [
    "#93. wae to check the given char is the special char\n",
    "ch='$'\n",
    "print('A'<=ch<='Z' or 'a'<=ch<='z' or '0'<=ch<='9')\n",
    "print(not('A'<=ch<='Z' or 'a'<=ch<='z' or '0'<=ch<='9'))"
   ]
  },
  {
   "cell_type": "code",
   "execution_count": 57,
   "metadata": {},
   "outputs": [
    {
     "name": "stdout",
     "output_type": "stream",
     "text": [
      "True\n",
      "True\n",
      "False\n"
     ]
    }
   ],
   "source": [
    "#99. wae to check the given char is a vowel\n",
    "ch='A'\n",
    "print(ch=='A' or ch=='E' or ch=='I' or ch=='O' or ch=='U' or ch=='a' or ch=='e' or ch=='i' or ch=='o' or ch=='u')\n",
    "#if we take ch='b' it gives false\n",
    "ch='U'\n",
    "print(ch in 'aeiouAEIOU')\n",
    "CH='C'\n",
    "print(CH in 'aeiouAEIOU')"
   ]
  },
  {
   "cell_type": "code",
   "execution_count": 62,
   "metadata": {},
   "outputs": [
    {
     "name": "stdout",
     "output_type": "stream",
     "text": [
      "pyspider\n",
      "pypiders\n"
     ]
    }
   ],
   "source": [
    "#21. WAE TO  delete the specific character in given string\n",
    "a=\"pyspiders\"\n",
    "print(a[0:7+1])\n",
    "s=\"pyspiders\"\n",
    "print(s[0:2]+s[3:])      \n",
    "      \n",
    "      \n",
    "      "
   ]
  },
  {
   "cell_type": "code",
   "execution_count": 72,
   "metadata": {},
   "outputs": [
    {
     "name": "stdout",
     "output_type": "stream",
     "text": [
      "hai  how are you\n"
     ]
    }
   ],
   "source": [
    "#22. was to concat the new string into the specific position of the given string\n",
    "a=\"hai are you\"\n",
    "print(a[0:3+1]+' how '+a[4:])"
   ]
  },
  {
   "cell_type": "code",
   "execution_count": 73,
   "metadata": {},
   "outputs": [
    {
     "name": "stdout",
     "output_type": "stream",
     "text": [
      "coter\n"
     ]
    }
   ],
   "source": [
    "#23. was to delete the sequence of characters in given string\n",
    "s=\"computer\"\n",
    "print(s[0:2]+s[5:])"
   ]
  },
  {
   "cell_type": "code",
   "execution_count": 79,
   "metadata": {},
   "outputs": [
    {
     "name": "stdout",
     "output_type": "stream",
     "text": [
      "1567660674624\n",
      "[40, 50, 10, 20, 30]\n",
      "1565540147776\n",
      "1565540296768\n",
      "['a', 'b', 1, 2, 3]\n",
      "1565540296768\n"
     ]
    }
   ],
   "source": [
    "#24. was to concat the new value into the starting of the given list\n",
    "x=[10,20,30]  #BACKWARD CONCATENATION\n",
    "print(id(x))\n",
    "x=[40,50]+x\n",
    "print(x)\n",
    "print(id(x))   #ADDRESSES ARE NOT SME\n",
    "x=[1,2,3]\n",
    "print(id(x))\n",
    "x[0:0]=['a','b']\n",
    "print(x)\n",
    "print(id(x)) #ADDRESSES ARE SME WHEN WE USE SLICING CONCEPT"
   ]
  },
  {
   "cell_type": "code",
   "execution_count": 86,
   "metadata": {},
   "outputs": [
    {
     "name": "stdout",
     "output_type": "stream",
     "text": [
      "1565540529600\n",
      "[40, 50, 10, 20, 30]\n",
      "1565540527936\n",
      "1565540371968\n",
      "[10, 20, 40, 50, 60]\n",
      "1565540371968\n"
     ]
    }
   ],
   "source": [
    "#25. WAS THE CONCAT THE NEWVALUE INTO THE ENDING OF THE GIVEN LIST\n",
    "x=[40,50]\n",
    "print(id(x))\n",
    "x=x+[10,20,30]\n",
    "print(x)\n",
    "print(id(x))  #different address\n",
    "#using slicing\n",
    "x=[10,20]\n",
    "print(id(x))\n",
    "x[2:2]=[40,50,60]\n",
    "print(x)\n",
    "print(id(x))#sme address"
   ]
  },
  {
   "cell_type": "code",
   "execution_count": 124,
   "metadata": {},
   "outputs": [
    {
     "data": {
      "text/plain": [
       "[10, 150.12, '10', '20', True, 'haii']"
      ]
     },
     "execution_count": 124,
     "metadata": {},
     "output_type": "execute_result"
    }
   ],
   "source": [
    "#26. WAS TO CONCAT THE NEWVALUE INTO THE MIDDLE OF THE GIVEN LIST\n",
    "a=[10,150.12,True,\"haii\"]\n",
    "#print(a[len(a)//2])\n",
    "print \n",
    "a[len(a)//2: len(a)//2] =['10','20']\n",
    "a"
   ]
  }
 ],
 "metadata": {
  "kernelspec": {
   "display_name": "Python 3",
   "language": "python",
   "name": "python3"
  },
  "language_info": {
   "codemirror_mode": {
    "name": "ipython",
    "version": 3
   },
   "file_extension": ".py",
   "mimetype": "text/x-python",
   "name": "python",
   "nbconvert_exporter": "python",
   "pygments_lexer": "ipython3",
   "version": "3.11.3"
  },
  "orig_nbformat": 4
 },
 "nbformat": 4,
 "nbformat_minor": 2
}
